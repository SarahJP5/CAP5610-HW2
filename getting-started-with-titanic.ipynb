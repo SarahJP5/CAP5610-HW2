{
 "cells": [
  {
   "cell_type": "code",
   "execution_count": 1,
   "id": "e158d69d",
   "metadata": {
    "execution": {
     "iopub.execute_input": "2022-02-21T04:06:03.267886Z",
     "iopub.status.busy": "2022-02-21T04:06:03.266651Z",
     "iopub.status.idle": "2022-02-21T04:06:04.687481Z",
     "shell.execute_reply": "2022-02-21T04:06:04.686685Z",
     "shell.execute_reply.started": "2022-02-21T03:59:21.798772Z"
    },
    "papermill": {
     "duration": 1.435943,
     "end_time": "2022-02-21T04:06:04.687663",
     "exception": false,
     "start_time": "2022-02-21T04:06:03.251720",
     "status": "completed"
    },
    "tags": []
   },
   "outputs": [],
   "source": [
    "#Sarah Pagano \n",
    "import numpy as np\n",
    "import pandas as pd \n",
    "from sklearn.tree import DecisionTreeClassifier\n",
    "from sklearn.ensemble import RandomForestClassifier\n",
    "from sklearn.model_selection import train_test_split\n",
    "from sklearn import metrics \n",
    "from sklearn.preprocessing import LabelEncoder\n",
    "from sklearn.impute import KNNImputer\n",
    "from sklearn import tree\n",
    "import matplotlib.pyplot as plt\n",
    "from sklearn.metrics import accuracy_score\n",
    "from sklearn.model_selection import GridSearchCV\n",
    "from sklearn.model_selection import cross_val_score\n",
    "\n",
    "# storing data \n",
    "train_data = pd.read_csv(\"/kaggle/input/titanic/train.csv\")\n",
    "test_data = pd.read_csv(\"/kaggle/input/titanic/test.csv\")\n",
    "\n",
    "\n",
    "train_df = pd.DataFrame(data = train_data)\n",
    "test_df = pd.DataFrame(data = test_data)"
   ]
  },
  {
   "cell_type": "code",
   "execution_count": 2,
   "id": "41c1e45b",
   "metadata": {
    "_cell_guid": "b1076dfc-b9ad-4769-8c92-a6c4dae69d19",
    "_uuid": "8f2839f25d086af736a60e9eeb907d3b93b6e0e5",
    "execution": {
     "iopub.execute_input": "2022-02-21T04:06:04.709622Z",
     "iopub.status.busy": "2022-02-21T04:06:04.708914Z",
     "iopub.status.idle": "2022-02-21T04:06:04.741482Z",
     "shell.execute_reply": "2022-02-21T04:06:04.742241Z",
     "shell.execute_reply.started": "2022-02-21T03:59:21.824310Z"
    },
    "papermill": {
     "duration": 0.045314,
     "end_time": "2022-02-21T04:06:04.742520",
     "exception": false,
     "start_time": "2022-02-21T04:06:04.697206",
     "status": "completed"
    },
    "tags": []
   },
   "outputs": [
    {
     "name": "stdout",
     "output_type": "stream",
     "text": [
      "     Survived  Pclass     Sex   Age  SibSp  Parch     Fare Embarked\n",
      "0           0       3    male  22.0      1      0   7.2500        S\n",
      "1           1       1  female  38.0      1      0  71.2833        C\n",
      "2           1       3  female  26.0      0      0   7.9250        S\n",
      "3           1       1  female  35.0      1      0  53.1000        S\n",
      "4           0       3    male  35.0      0      0   8.0500        S\n",
      "..        ...     ...     ...   ...    ...    ...      ...      ...\n",
      "886         0       2    male  27.0      0      0  13.0000        S\n",
      "887         1       1  female  19.0      0      0  30.0000        S\n",
      "888         0       3  female   NaN      1      2  23.4500        S\n",
      "889         1       1    male  26.0      0      0  30.0000        C\n",
      "890         0       3    male  32.0      0      0   7.7500        Q\n",
      "\n",
      "[891 rows x 8 columns]\n"
     ]
    }
   ],
   "source": [
    "#The features I decided to use were the features that were most relavent to wether or not a passenger survived. \n",
    "#data like \"name\" and \"Ticket\" are only really used as identifiers, and therefore show little relavence \n",
    "#when considering if a passenger survived \n",
    "train_df = train_df.drop(columns=\"Ticket\")\n",
    "train_df = train_df.drop(columns=\"PassengerId\")\n",
    "train_df = train_df.drop(columns=\"Name\")\n",
    "train_df = train_df.drop(columns=\"Cabin\")\n",
    "\n",
    "print(train_df)\n",
    "\n",
    "test_df = test_df.drop(columns=\"Ticket\")\n",
    "test_df = test_df.drop(columns=\"PassengerId\")\n",
    "test_df = test_df.drop(columns=\"Name\")\n",
    "test_df = test_df.drop(columns=\"Cabin\")"
   ]
  },
  {
   "cell_type": "code",
   "execution_count": 3,
   "id": "9915a094",
   "metadata": {
    "execution": {
     "iopub.execute_input": "2022-02-21T04:06:04.767368Z",
     "iopub.status.busy": "2022-02-21T04:06:04.766357Z",
     "iopub.status.idle": "2022-02-21T04:06:04.835582Z",
     "shell.execute_reply": "2022-02-21T04:06:04.836827Z",
     "shell.execute_reply.started": "2022-02-21T03:59:21.846542Z"
    },
    "papermill": {
     "duration": 0.083464,
     "end_time": "2022-02-21T04:06:04.837164",
     "exception": false,
     "start_time": "2022-02-21T04:06:04.753700",
     "status": "completed"
    },
    "tags": []
   },
   "outputs": [
    {
     "name": "stdout",
     "output_type": "stream",
     "text": [
      "     Survived  Pclass   Age  SibSp  Parch     Fare  Sex_encode  \\\n",
      "0         0.0     3.0  22.0    1.0    0.0   7.2500         1.0   \n",
      "1         1.0     1.0  38.0    1.0    0.0  71.2833         0.0   \n",
      "2         1.0     3.0  26.0    0.0    0.0   7.9250         0.0   \n",
      "3         1.0     1.0  35.0    1.0    0.0  53.1000         0.0   \n",
      "4         0.0     3.0  35.0    0.0    0.0   8.0500         1.0   \n",
      "..        ...     ...   ...    ...    ...      ...         ...   \n",
      "886       0.0     2.0  27.0    0.0    0.0  13.0000         1.0   \n",
      "887       1.0     1.0  19.0    0.0    0.0  30.0000         0.0   \n",
      "888       0.0     3.0  26.8    1.0    2.0  23.4500         0.0   \n",
      "889       1.0     1.0  26.0    0.0    0.0  30.0000         1.0   \n",
      "890       0.0     3.0  32.0    0.0    0.0   7.7500         1.0   \n",
      "\n",
      "     Embarked_encode  \n",
      "0                2.0  \n",
      "1                0.0  \n",
      "2                2.0  \n",
      "3                2.0  \n",
      "4                2.0  \n",
      "..               ...  \n",
      "886              2.0  \n",
      "887              2.0  \n",
      "888              2.0  \n",
      "889              0.0  \n",
      "890              1.0  \n",
      "\n",
      "[891 rows x 8 columns]\n"
     ]
    }
   ],
   "source": [
    "#encoding the categorical data \n",
    "le = LabelEncoder()\n",
    "\n",
    "train_df[\"Sex_encode\"] = le.fit_transform(train_df.loc[:,\"Sex\"])\n",
    "train_df = train_df.drop(columns=\"Sex\")\n",
    "\n",
    "train_df[\"Embarked_encode\"] = le.fit_transform(train_df.loc[:,\"Embarked\"].astype(str))\n",
    "train_df = train_df.drop(columns=\"Embarked\")\n",
    "\n",
    "test_df[\"Sex_encode\"] = le.fit_transform(test_df.loc[:,\"Sex\"])\n",
    "test_df = test_df.drop(columns=\"Sex\")\n",
    "\n",
    "test_df[\"Embarked_encode\"] = le.fit_transform(test_df.loc[:,\"Embarked\"].astype(str))\n",
    "test_df = test_df.drop(columns=\"Embarked\")\n",
    "\n",
    "#filling in any missing values \n",
    "imputer = KNNImputer(n_neighbors=5)\n",
    "train_df = pd.DataFrame(imputer.fit_transform(train_df),columns = train_df.columns)\n",
    "test_df = pd.DataFrame(imputer.fit_transform(train_df),columns = train_df.columns)\n",
    "\n",
    "\n",
    "print(train_df)"
   ]
  },
  {
   "cell_type": "code",
   "execution_count": 4,
   "id": "eb00f11c",
   "metadata": {
    "execution": {
     "iopub.execute_input": "2022-02-21T04:06:04.885815Z",
     "iopub.status.busy": "2022-02-21T04:06:04.884625Z",
     "iopub.status.idle": "2022-02-21T04:06:04.893934Z",
     "shell.execute_reply": "2022-02-21T04:06:04.895403Z",
     "shell.execute_reply.started": "2022-02-21T03:59:21.908191Z"
    },
    "papermill": {
     "duration": 0.038907,
     "end_time": "2022-02-21T04:06:04.895742",
     "exception": false,
     "start_time": "2022-02-21T04:06:04.856835",
     "status": "completed"
    },
    "tags": []
   },
   "outputs": [],
   "source": [
    "#splitting the training data\n",
    "x = train_df.drop(columns=\"Survived\")\n",
    "y = train_df[\"Survived\"]\n",
    "\n",
    "x_train, x_test, y_train, y_test = train_test_split(x, y, random_state=1)\n"
   ]
  },
  {
   "cell_type": "code",
   "execution_count": 5,
   "id": "48e02cca",
   "metadata": {
    "execution": {
     "iopub.execute_input": "2022-02-21T04:06:04.933987Z",
     "iopub.status.busy": "2022-02-21T04:06:04.933281Z",
     "iopub.status.idle": "2022-02-21T04:06:06.583970Z",
     "shell.execute_reply": "2022-02-21T04:06:06.584740Z",
     "shell.execute_reply.started": "2022-02-21T03:59:21.921001Z"
    },
    "papermill": {
     "duration": 1.671278,
     "end_time": "2022-02-21T04:06:06.584993",
     "exception": false,
     "start_time": "2022-02-21T04:06:04.913715",
     "status": "completed"
    },
    "tags": []
   },
   "outputs": [
    {
     "data": {
      "text/plain": [
       "0.7713004484304933"
      ]
     },
     "execution_count": 5,
     "metadata": {},
     "output_type": "execute_result"
    },
    {
     "data": {
      "image/png": "[encoded data removed]",
      "text/plain": [
       "<Figure size 432x288 with 1 Axes>"
      ]
     },
     "metadata": {
      "needs_background": "light"
     },
     "output_type": "display_data"
    }
   ],
   "source": [
    "# decision tree model \n",
    "dt = tree.DecisionTreeClassifier(max_depth=4)\n",
    "dt.fit(x_train, y_train)\n",
    "\n",
    "tree.plot_tree(dt)\n",
    "\n",
    "y_predict = dt.predict(x_test)\n",
    "accuracy_score(y_test, y_predict)"
   ]
  },
  {
   "cell_type": "code",
   "execution_count": 6,
   "id": "403ef39b",
   "metadata": {
    "execution": {
     "iopub.execute_input": "2022-02-21T04:06:06.650109Z",
     "iopub.status.busy": "2022-02-21T04:06:06.623667Z",
     "iopub.status.idle": "2022-02-21T04:06:06.843835Z",
     "shell.execute_reply": "2022-02-21T04:06:06.843209Z",
     "shell.execute_reply.started": "2022-02-21T03:59:23.521177Z"
    },
    "papermill": {
     "duration": 0.241921,
     "end_time": "2022-02-21T04:06:06.843976",
     "exception": false,
     "start_time": "2022-02-21T04:06:06.602055",
     "status": "completed"
    },
    "tags": []
   },
   "outputs": [
    {
     "data": {
      "text/plain": [
       "0.7757847533632287"
      ]
     },
     "execution_count": 6,
     "metadata": {},
     "output_type": "execute_result"
    }
   ],
   "source": [
    "#random forest \n",
    "rf = RandomForestClassifier(max_depth=6) \n",
    "rf.fit(x_train, y_train)\n",
    "\n",
    "y_predict = rf.predict(x_test)\n",
    "accuracy_score(y_test, y_predict)"
   ]
  },
  {
   "cell_type": "code",
   "execution_count": 7,
   "id": "46d76f5c",
   "metadata": {
    "execution": {
     "iopub.execute_input": "2022-02-21T04:06:06.875832Z",
     "iopub.status.busy": "2022-02-21T04:06:06.875154Z",
     "iopub.status.idle": "2022-02-21T04:06:07.939992Z",
     "shell.execute_reply": "2022-02-21T04:06:07.939235Z",
     "shell.execute_reply.started": "2022-02-21T03:59:23.750398Z"
    },
    "papermill": {
     "duration": 1.084633,
     "end_time": "2022-02-21T04:06:07.940180",
     "exception": false,
     "start_time": "2022-02-21T04:06:06.855547",
     "status": "completed"
    },
    "tags": []
   },
   "outputs": [
    {
     "name": "stdout",
     "output_type": "stream",
     "text": [
      "[0.81343284 0.84328358 0.88059701 0.85714286 0.86466165]\n",
      "[0.8358209  0.82089552 0.87313433 0.86466165 0.85714286]\n",
      "AvgDT :  0.8518235888228034\n",
      "AvgRF :  0.8503310515093704\n"
     ]
    }
   ],
   "source": [
    "#applying the 5 folds validation \n",
    "\n",
    "avgDT = 0\n",
    "avgRF = 0\n",
    "\n",
    "dtScores = cross_val_score(dt, x_train, y_train, cv=5)\n",
    "print(dtScores)\n",
    "\n",
    "rfScores = cross_val_score(rf, x_train, y_train, cv=5)\n",
    "print(rfScores)\n",
    "\n",
    "for i in range(5):\n",
    "    avgDT += dtScores[i]\n",
    "    avgRF += rfScores[i]\n",
    "    \n",
    "avgDT = avgDT / 5\n",
    "avgRF = avgRF / 5\n",
    "\n",
    "#printingt average \n",
    "print(\"AvgDT : \", avgDT)\n",
    "print(\"AvgRF : \", avgRF)"
   ]
  }
 ],
 "metadata": {
  "kernelspec": {
   "display_name": "Python 3",
   "language": "python",
   "name": "python3"
  },
  "language_info": {
   "codemirror_mode": {
    "name": "ipython",
    "version": 3
   },
   "file_extension": ".py",
   "mimetype": "text/x-python",
   "name": "python",
   "nbconvert_exporter": "python",
   "pygments_lexer": "ipython3",
   "version": "3.7.12"
  },
  "papermill": {
   "default_parameters": {},
   "duration": 16.451532,
   "end_time": "2022-02-21T04:06:08.966349",
   "environment_variables": {},
   "exception": null,
   "input_path": "__notebook__.ipynb",
   "output_path": "__notebook__.ipynb",
   "parameters": {},
   "start_time": "2022-02-21T04:05:52.514817",
   "version": "2.3.3"
  }
 },
 "nbformat": 4,
 "nbformat_minor": 5
}
